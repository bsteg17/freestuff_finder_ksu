{
 "metadata": {
  "name": "",
  "signature": "sha256:12b0238f5eff5b682c5bb721774b5d6be1b2668d561624a9dc5fa242199a3187"
 },
 "nbformat": 3,
 "nbformat_minor": 0,
 "worksheets": [
  {
   "cells": [
    {
     "cell_type": "code",
     "collapsed": false,
     "input": [
      "def test_scrape_iotd_gallery():\n",
      "     2\t    \"\"\"\n",
      "     3\t    Scrape NASA Image of the Day Gallery\n",
      "     4\t    \"\"\"\n",
      "     5\t    # Extra data massage for BeautifulSoup\n",
      "     6\t    my_massage = get_massage()\n",
      "     7\t\n",
      "     8\t    # Open main gallery page\n",
      "     9\t    client = WindmillTestClient(__name__)\n",
      "    10\t    client.open(url='http://www.nasa.gov/multimedia/imagegallery/iotd.html')\n",
      "    11\t\n",
      "    12\t    # Page isn't completely loaded until image gallery data\n",
      "    13\t    # has been updated by javascript code\n",
      "    14\t    client.waits.forElement(xpath=u\"//div[@id='gallery_image_area']/img\",\n",
      "    15\t                            timeout=30000)\n",
      "    16\t\n",
      "    17\t    # Scrape all images information\n",
      "    18\t    images_info = {}\n",
      "    19\t    while True:\n",
      "    20\t        image_info = get_image_info(client, my_massage)\n",
      "    21\t\n",
      "    22\t        # Break if image has been already scrapped\n",
      "    23\t        # (that means that all images have been parsed\n",
      "    24\t        # since they are ordered in a circular ring)\n",
      "    25\t        if image_info['link'] in images_info:\n",
      "    26\t            break\n",
      "    27\t\n",
      "    28\t        images_info[image_info['link']] = image_info\n",
      "    29\t\n",
      "    30\t        # Click to get the information for the next image\n",
      "    31\t        client.click(xpath=u\"//div[@class='btn_image_next']\")\n",
      "    32\t\n",
      "    33\t    # Print results to stdout ordered by image name\n",
      "    34\t    for image_info in sorted(images_info.values(),\n",
      "    35\t                             key=lambda image_info: image_info['name']):\n",
      "    36\t        print (\"Name: %(name)sn\"\n",
      "    37\t               \"Link: %(link)sn\" % image_info)\n",
      "    "
     ],
     "language": "python",
     "metadata": {},
     "outputs": [
      {
       "ename": "SyntaxError",
       "evalue": "invalid syntax (<ipython-input-4-6efdf13c4d47>, line 4)",
       "output_type": "pyerr",
       "traceback": [
        "\u001b[1;36m  File \u001b[1;32m\"<ipython-input-4-6efdf13c4d47>\"\u001b[1;36m, line \u001b[1;32m4\u001b[0m\n\u001b[1;33m    4\t    \"\"\"\u001b[0m\n\u001b[1;37m     \t       \n^\u001b[0m\n\u001b[1;31mSyntaxError\u001b[0m\u001b[1;31m:\u001b[0m invalid syntax\n"
       ]
      }
     ],
     "prompt_number": 4
    },
    {
     "cell_type": "code",
     "collapsed": false,
     "input": [
      "print 2+2\n"
     ],
     "language": "python",
     "metadata": {},
     "outputs": [
      {
       "output_type": "stream",
       "stream": "stdout",
       "text": [
        "4\n"
       ]
      }
     ],
     "prompt_number": 1
    },
    {
     "cell_type": "raw",
     "metadata": {},
     "source": [
      "import WindmillTestClient\n",
      "\n",
      "dir()"
     ]
    },
    {
     "cell_type": "code",
     "collapsed": false,
     "input": [
      "from windmill.authoring import WindmillTestClient\n",
      "\n",
      "import functest\n",
      "\n",
      "def setup_module(module):\n",
      "    client = WindmillTestClient(__name__)\n",
      "\n",
      "    client.click(id=u'email')\n",
      "    client.type(text=functest.registry['email'], id=u'email')\n",
      "    client.type(text=functest.registry['password'], id=u'pass')\n",
      "    client.click(value=u\"Login\")\n",
      "    client.waits.forPageLoad(timeout=u'60000')"
     ],
     "language": "python",
     "metadata": {},
     "outputs": [],
     "prompt_number": 2
    },
    {
     "cell_type": "code",
     "collapsed": false,
     "input": [
      "import asdfjhasdflja"
     ],
     "language": "python",
     "metadata": {},
     "outputs": [
      {
       "ename": "ImportError",
       "evalue": "No module named asdfjhasdflja",
       "output_type": "pyerr",
       "traceback": [
        "\u001b[1;31m---------------------------------------------------------------------------\u001b[0m\n\u001b[1;31mImportError\u001b[0m                               Traceback (most recent call last)",
        "\u001b[1;32m<ipython-input-3-05e4e9fa7440>\u001b[0m in \u001b[0;36m<module>\u001b[1;34m()\u001b[0m\n\u001b[1;32m----> 1\u001b[1;33m \u001b[1;32mimport\u001b[0m \u001b[0masdfjhasdflja\u001b[0m\u001b[1;33m\u001b[0m\u001b[0m\n\u001b[0m",
        "\u001b[1;31mImportError\u001b[0m: No module named asdfjhasdflja"
       ]
      }
     ],
     "prompt_number": 3
    },
    {
     "cell_type": "code",
     "collapsed": false,
     "input": [
      "client = WindmillTestClient(__name__)"
     ],
     "language": "python",
     "metadata": {},
     "outputs": [
      {
       "ename": "AttributeError",
       "evalue": "'module' object has no attribute 'settings'",
       "output_type": "pyerr",
       "traceback": [
        "\u001b[1;31m---------------------------------------------------------------------------\u001b[0m\n\u001b[1;31mAttributeError\u001b[0m                            Traceback (most recent call last)",
        "\u001b[1;32m<ipython-input-5-580a80953209>\u001b[0m in \u001b[0;36m<module>\u001b[1;34m()\u001b[0m\n\u001b[1;32m----> 1\u001b[1;33m \u001b[0mclient\u001b[0m \u001b[1;33m=\u001b[0m \u001b[0mWindmillTestClient\u001b[0m\u001b[1;33m(\u001b[0m\u001b[0m__name__\u001b[0m\u001b[1;33m)\u001b[0m\u001b[1;33m\u001b[0m\u001b[0m\n\u001b[0m",
        "\u001b[1;32mC:\\Python27\\lib\\site-packages\\windmill-1.6-py2.7.egg\\windmill\\authoring\\__init__.pyc\u001b[0m in \u001b[0;36m__init__\u001b[1;34m(self, suite_name, assertions, browser_debugging, method_proxy)\u001b[0m\n\u001b[0;32m    140\u001b[0m \u001b[1;33m\u001b[0m\u001b[0m\n\u001b[0;32m    141\u001b[0m         \u001b[1;32mif\u001b[0m \u001b[0mmethod_proxy\u001b[0m \u001b[1;32mis\u001b[0m \u001b[0mNone\u001b[0m\u001b[1;33m:\u001b[0m\u001b[1;33m\u001b[0m\u001b[0m\n\u001b[1;32m--> 142\u001b[1;33m             \u001b[0mmethod_proxy\u001b[0m \u001b[1;33m=\u001b[0m \u001b[0mwindmill\u001b[0m\u001b[1;33m.\u001b[0m\u001b[0mtools\u001b[0m\u001b[1;33m.\u001b[0m\u001b[0mmake_jsonrpc_client\u001b[0m\u001b[1;33m(\u001b[0m\u001b[1;33m)\u001b[0m\u001b[1;33m\u001b[0m\u001b[0m\n\u001b[0m\u001b[0;32m    143\u001b[0m \u001b[1;33m\u001b[0m\u001b[0m\n\u001b[0;32m    144\u001b[0m         \u001b[0mself\u001b[0m\u001b[1;33m.\u001b[0m\u001b[0m_method_proxy\u001b[0m \u001b[1;33m=\u001b[0m \u001b[0mmethod_proxy\u001b[0m\u001b[1;33m\u001b[0m\u001b[0m\n",
        "\u001b[1;32mC:\\Python27\\lib\\site-packages\\windmill-1.6-py2.7.egg\\windmill\\tools\\__init__.pyc\u001b[0m in \u001b[0;36mmake_jsonrpc_client\u001b[1;34m()\u001b[0m\n\u001b[0;32m     33\u001b[0m \u001b[1;32mdef\u001b[0m \u001b[0mmake_jsonrpc_client\u001b[0m\u001b[1;33m(\u001b[0m\u001b[1;33m)\u001b[0m\u001b[1;33m:\u001b[0m\u001b[1;33m\u001b[0m\u001b[0m\n\u001b[0;32m     34\u001b[0m     \u001b[1;32mimport\u001b[0m \u001b[0mwindmill\u001b[0m\u001b[1;33m\u001b[0m\u001b[0m\n\u001b[1;32m---> 35\u001b[1;33m     \u001b[0murl\u001b[0m \u001b[1;33m=\u001b[0m \u001b[0murlparse\u001b[0m\u001b[1;33m(\u001b[0m\u001b[0mwindmill\u001b[0m\u001b[1;33m.\u001b[0m\u001b[0msettings\u001b[0m\u001b[1;33m[\u001b[0m\u001b[1;34m'TEST_URL'\u001b[0m\u001b[1;33m]\u001b[0m\u001b[1;33m)\u001b[0m\u001b[1;33m\u001b[0m\u001b[0m\n\u001b[0m\u001b[0;32m     36\u001b[0m     \u001b[0muri\u001b[0m \u001b[1;33m=\u001b[0m \u001b[0murl\u001b[0m\u001b[1;33m.\u001b[0m\u001b[0mscheme\u001b[0m\u001b[1;33m+\u001b[0m\u001b[1;34m'://'\u001b[0m\u001b[1;33m+\u001b[0m\u001b[0murl\u001b[0m\u001b[1;33m.\u001b[0m\u001b[0mnetloc\u001b[0m\u001b[1;33m+\u001b[0m\u001b[1;34m'/windmill-jsonrpc/'\u001b[0m\u001b[1;33m\u001b[0m\u001b[0m\n\u001b[0;32m     37\u001b[0m     \u001b[0mproxy\u001b[0m \u001b[1;33m=\u001b[0m \u001b[0mwindmill\u001b[0m\u001b[1;33m.\u001b[0m\u001b[0mtools\u001b[0m\u001b[1;33m.\u001b[0m\u001b[0mjson_tools\u001b[0m\u001b[1;33m.\u001b[0m\u001b[0mJSONRPCTransport\u001b[0m\u001b[1;33m(\u001b[0m\u001b[0muri\u001b[0m\u001b[1;33m=\u001b[0m\u001b[0muri\u001b[0m\u001b[1;33m,\u001b[0m \u001b[0mproxy_uri\u001b[0m\u001b[1;33m=\u001b[0m\u001b[1;34m'http://127.0.0.1:'\u001b[0m\u001b[1;33m+\u001b[0m\u001b[0mstr\u001b[0m\u001b[1;33m(\u001b[0m\u001b[0mwindmill\u001b[0m\u001b[1;33m.\u001b[0m\u001b[0msettings\u001b[0m\u001b[1;33m[\u001b[0m\u001b[1;34m'SERVER_HTTP_PORT'\u001b[0m\u001b[1;33m]\u001b[0m\u001b[1;33m)\u001b[0m\u001b[1;33m)\u001b[0m\u001b[1;33m\u001b[0m\u001b[0m\n",
        "\u001b[1;31mAttributeError\u001b[0m: 'module' object has no attribute 'settings'"
       ]
      }
     ],
     "prompt_number": 5
    },
    {
     "cell_type": "code",
     "collapsed": false,
     "input": [
      "client = WindmillTestClient()"
     ],
     "language": "python",
     "metadata": {},
     "outputs": [
      {
       "ename": "TypeError",
       "evalue": "__init__() takes at least 2 arguments (1 given)",
       "output_type": "pyerr",
       "traceback": [
        "\u001b[1;31m---------------------------------------------------------------------------\u001b[0m\n\u001b[1;31mTypeError\u001b[0m                                 Traceback (most recent call last)",
        "\u001b[1;32m<ipython-input-6-c40189f8b765>\u001b[0m in \u001b[0;36m<module>\u001b[1;34m()\u001b[0m\n\u001b[1;32m----> 1\u001b[1;33m \u001b[0mclient\u001b[0m \u001b[1;33m=\u001b[0m \u001b[0mWindmillTestClient\u001b[0m\u001b[1;33m(\u001b[0m\u001b[1;33m)\u001b[0m\u001b[1;33m\u001b[0m\u001b[0m\n\u001b[0m",
        "\u001b[1;31mTypeError\u001b[0m: __init__() takes at least 2 arguments (1 given)"
       ]
      }
     ],
     "prompt_number": 6
    },
    {
     "cell_type": "code",
     "collapsed": false,
     "input": [
      "%windmill shell http://www.k-state.edu/calendar/"
     ],
     "language": "python",
     "metadata": {},
     "outputs": [
      {
       "output_type": "stream",
       "stream": "stderr",
       "text": [
        "ERROR: Line magic function `%windmill` not found.\n"
       ]
      }
     ],
     "prompt_number": 1
    },
    {
     "cell_type": "code",
     "collapsed": false,
     "input": [
      "dir()"
     ],
     "language": "python",
     "metadata": {},
     "outputs": [
      {
       "metadata": {},
       "output_type": "pyout",
       "prompt_number": 2,
       "text": [
        "['In',\n",
        " 'Out',\n",
        " '_',\n",
        " '__',\n",
        " '___',\n",
        " '__builtin__',\n",
        " '__builtins__',\n",
        " '__doc__',\n",
        " '__name__',\n",
        " '_dh',\n",
        " '_i',\n",
        " '_i1',\n",
        " '_i2',\n",
        " '_ih',\n",
        " '_ii',\n",
        " '_iii',\n",
        " '_oh',\n",
        " '_sh',\n",
        " 'exit',\n",
        " 'get_ipython',\n",
        " 'quit']"
       ]
      }
     ],
     "prompt_number": 2
    },
    {
     "cell_type": "code",
     "collapsed": false,
     "input": [
      "i?"
     ],
     "language": "python",
     "metadata": {},
     "outputs": [
      {
       "output_type": "stream",
       "stream": "stdout",
       "text": [
        "Object `i` not found.\n"
       ]
      }
     ],
     "prompt_number": 3
    },
    {
     "cell_type": "code",
     "collapsed": false,
     "input": [],
     "language": "python",
     "metadata": {},
     "outputs": []
    }
   ],
   "metadata": {}
  }
 ]
}